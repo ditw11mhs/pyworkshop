{
 "cells": [
  {
   "cell_type": "markdown",
   "id": "c9073973",
   "metadata": {
    "deletable": false,
    "editable": false,
    "nbgrader": {
     "cell_type": "markdown",
     "checksum": "0cb41e163d162083d84184a525f08d9f",
     "grade": false,
     "grade_id": "cell-59c1b0fec185a628",
     "locked": true,
     "schema_version": 3,
     "solution": false,
     "task": false
    }
   },
   "source": [
    "# Welcome to your homework Workshop Attendance!\n",
    "\n",
    "In this homework we will go through some exercise utilizing almost all of the material that have been taught in the workshop. This is in no way a really thorough test, you can excercise more using programming test website such as hackerrank and leetcode. The difficulties that is written in each problem is subjective, I rate them based on a beginner level.\n",
    "\n",
    "Rules:\n",
    "- Don't change the code that has been written before\n",
    "- Match the variable for the return output to prevent things not working\n",
    "- There are hidden test that are not written in this notebook, so make sure your function work with different inputs\n",
    "- Don't copy other people answer, take your time, use this moment to study more]\n",
    "- If you find an answer from stackoverflow, make sure you don't blatantly copy paste it, understand and change some things out\n",
    "\n",
    "Tips:\n",
    "- Try to understand the problem before coding right in\n",
    "- Read the module once again\n",
    "- Before asking a friend, try googling things out\n",
    "- Never stop learning\n",
    "- Have fun !"
   ]
  },
  {
   "cell_type": "code",
   "execution_count": null,
   "id": "f4611b54",
   "metadata": {
    "deletable": false,
    "editable": false,
    "nbgrader": {
     "cell_type": "code",
     "checksum": "cc371bd2cd0d8e6aac45d9d8f1db0999",
     "grade": false,
     "grade_id": "cell-15f16143d4506f11",
     "locked": true,
     "schema_version": 3,
     "solution": false,
     "task": false
    }
   },
   "outputs": [],
   "source": [
    "# Initial Import\n",
    "import numpy as np"
   ]
  },
  {
   "cell_type": "markdown",
   "id": "fa119a6c",
   "metadata": {
    "deletable": false,
    "editable": false,
    "nbgrader": {
     "cell_type": "markdown",
     "checksum": "f028a646b7abb73042c7d762b081d56a",
     "grade": false,
     "grade_id": "cell-76fff1ae7810d8c5",
     "locked": true,
     "schema_version": 3,
     "solution": false,
     "task": false
    }
   },
   "source": [
    "## Problem 1 : Count A\n",
    "Difficulty: 1/10 <br>\n",
    "Point: 10\n",
    "\n",
    "In this problem, you need to make function that count the amount of \"A\" or capital \"a\" inside a string and returning the amount of \"A\"\n",
    "\n",
    "Example:\n",
    "count_A(\"ABCA\") return 2, because there are 2 \"A\" inside the string\n",
    "\n",
    "Hint:\n",
    "- How do you iterate through a list?\n",
    "- How do you implement logic?"
   ]
  },
  {
   "cell_type": "code",
   "execution_count": null,
   "id": "558ddca1",
   "metadata": {
    "deletable": false,
    "nbgrader": {
     "cell_type": "code",
     "checksum": "008938eacabc85de688b0312cbc0e679",
     "grade": false,
     "grade_id": "cell-fd29794207e80b4c",
     "locked": false,
     "schema_version": 3,
     "solution": true,
     "task": false
    }
   },
   "outputs": [],
   "source": [
    "def count_A(s):\n",
    "    '''\n",
    "    Count the amount of \"A\" inside of input s\n",
    "    '''\n",
    "    ### DON'T CHANGE THE CODE PROVIDED\n",
    "    count = 0\n",
    "    \n",
    "    # YOUR CODE HERE\n",
    "    \n",
    "    return count"
   ]
  },
  {
   "cell_type": "code",
   "execution_count": null,
   "id": "e509a9c2",
   "metadata": {
    "deletable": false,
    "editable": false,
    "nbgrader": {
     "cell_type": "code",
     "checksum": "7005ae4625c66f4c1dff5ff03a9b3053",
     "grade": true,
     "grade_id": "cell-e600a2f61f62fa5f",
     "locked": true,
     "points": 10,
     "schema_version": 3,
     "solution": false,
     "task": false
    }
   },
   "outputs": [],
   "source": [
    "assert count_A(\"ABC\") == 1\n",
    "assert count_A(\"AaAaA\") == 3\n",
    "assert count_A(\"\") == 0"
   ]
  },
  {
   "cell_type": "markdown",
   "id": "8b8ac97f",
   "metadata": {},
   "source": [
    "## Problem 2 : Flatten List of List\n",
    "Difficulty: 5/10<br>\n",
    "Point: 30\n",
    "\n",
    "In this problem, you need to make function that flatten a list of list, **becareful for input with multiple list of list**\n",
    "\n",
    "Example:\n",
    "flatten_list([1,[2,3],[4,5],6]) return [1,2,3,4,5,6] because it remove the list of list and return the whole thing inside the list\n",
    "\n",
    "Hint:\n",
    "- You can iterate over an iteration\n",
    "- Use [isinstance()](https://www.w3schools.com/python/ref_func_isinstance.asp)"
   ]
  },
  {
   "cell_type": "code",
   "execution_count": null,
   "id": "5e80e156",
   "metadata": {
    "deletable": false,
    "nbgrader": {
     "cell_type": "code",
     "checksum": "8416b0ade950c687b7c1afa968984359",
     "grade": false,
     "grade_id": "cell-6779c45fd2b1e0a4",
     "locked": false,
     "schema_version": 3,
     "solution": true,
     "task": false
    }
   },
   "outputs": [],
   "source": [
    "def flatten_list(l):\n",
    "    ### DON'T CHANGE THE CODE PROVIDED\n",
    "    output = []\n",
    "    \n",
    "    # YOUR CODE HERE\n",
    "    \n",
    "    return output"
   ]
  },
  {
   "cell_type": "code",
   "execution_count": null,
   "id": "d909e71f",
   "metadata": {
    "deletable": false,
    "editable": false,
    "nbgrader": {
     "cell_type": "code",
     "checksum": "1b3738b82c3d8fd3f25b13b5387b3e87",
     "grade": true,
     "grade_id": "cell-ae8e23062c41cdfb",
     "locked": true,
     "points": 30,
     "schema_version": 3,
     "solution": false,
     "task": false
    }
   },
   "outputs": [],
   "source": [
    "assert flatten_list([1,[2,3]]) == [1,2,3]\n",
    "assert flatten_list([1,[2,3],[]]) == [1,2,3]\n",
    "assert flatten_list([[1],[2],[3]]) == [1,2,3]"
   ]
  },
  {
   "cell_type": "markdown",
   "id": "ff9f2fef",
   "metadata": {
    "deletable": false,
    "editable": false,
    "nbgrader": {
     "cell_type": "markdown",
     "checksum": "7edb03827b800808617defb4c536268d",
     "grade": false,
     "grade_id": "cell-63e97e2698651f50",
     "locked": true,
     "schema_version": 3,
     "solution": false,
     "task": false
    }
   },
   "source": [
    "## Problem 3 : Compute Force Between Two Particle\n",
    "Difficulty: 3/10<br>\n",
    "Point: 10\n",
    "\n",
    "In this problem, make a function that satisfy the formula of force between two charged particle, lets test your physics a little bit<br>\n",
    "$$F = \\frac{k.Q1.Q2}{r^2} $$\n",
    "\n",
    "Example:\n",
    "compute_force(1*10e-9,2,3) return 200\n",
    "\n",
    "Hint:\n",
    "- Becareful with how you write the formula in Python\n",
    "- Becareful with 0"
   ]
  },
  {
   "cell_type": "code",
   "execution_count": null,
   "id": "b23b6a3b",
   "metadata": {
    "deletable": false,
    "nbgrader": {
     "cell_type": "code",
     "checksum": "85f9f66285267d9a5abad83b743f3e21",
     "grade": false,
     "grade_id": "cell-c8e698284b9b92da",
     "locked": false,
     "schema_version": 3,
     "solution": true,
     "task": false
    }
   },
   "outputs": [],
   "source": [
    "def compute_force(q1,q2,r):\n",
    "    ### DON'T CHANGE THE CODE PROVIDED\n",
    "    k = 9*10e9\n",
    "\n",
    "    # YOUR CODE HERE\n",
    "    \n",
    "    return F"
   ]
  },
  {
   "cell_type": "code",
   "execution_count": null,
   "id": "5464acb7",
   "metadata": {
    "deletable": false,
    "editable": false,
    "nbgrader": {
     "cell_type": "code",
     "checksum": "417e532ae77e172f93d43b61e6a8dbae",
     "grade": true,
     "grade_id": "cell-d1b7daba6b413a5c",
     "locked": true,
     "points": 10,
     "schema_version": 3,
     "solution": false,
     "task": false
    }
   },
   "outputs": [],
   "source": [
    "assert compute_force(1,2,3) == 2*10e9\n",
    "assert compute_force(1*10e-9,2,3) == 200\n",
    "assert compute_force(1,2,0) == float(\"infinity\")"
   ]
  },
  {
   "cell_type": "markdown",
   "id": "f90d1af4",
   "metadata": {
    "deletable": false,
    "editable": false,
    "nbgrader": {
     "cell_type": "markdown",
     "checksum": "0710346d2d669d9c378e586573157aed",
     "grade": false,
     "grade_id": "cell-4c35a96364bc501c",
     "locked": true,
     "schema_version": 3,
     "solution": false,
     "task": false
    }
   },
   "source": [
    "## Problem 4: Compute Area of Rectangle\n",
    "Difficulty: 4/10<br>\n",
    "Point: 20\n",
    "\n",
    "In this problem you need to compute the area of a rectangle using the coordinate of only two corner that is placed diagonally (not sorted and can be either left or right diagonal).\n",
    "\n",
    "Hint:\n",
    "- How do you calculate the area? Maybe there is a formula?\n",
    "- Becareful with negative output\n",
    "- If only there is a way to make negative value to positive"
   ]
  },
  {
   "cell_type": "code",
   "execution_count": null,
   "id": "6142c4e5",
   "metadata": {
    "deletable": false,
    "nbgrader": {
     "cell_type": "code",
     "checksum": "aada34d32a1b9d5dd2ea5df8cf7128bd",
     "grade": false,
     "grade_id": "cell-3ae615e14966347e",
     "locked": false,
     "schema_version": 3,
     "solution": true,
     "task": false
    }
   },
   "outputs": [],
   "source": [
    "def compute_area(pair_1,pair_2):\n",
    "    ### DON'T CHANGE THE CODE PROVIDED\n",
    "    x1,y1 = pair_1\n",
    "    x2,y2 = pair_2\n",
    "    \n",
    "    # YOUR CODE HERE\n",
    "    \n",
    "    return area"
   ]
  },
  {
   "cell_type": "code",
   "execution_count": null,
   "id": "2e342e46",
   "metadata": {
    "deletable": false,
    "editable": false,
    "nbgrader": {
     "cell_type": "code",
     "checksum": "b8d49b70db75c05e8ca6df6993676c0f",
     "grade": true,
     "grade_id": "cell-4f0bd17c7c530bb1",
     "locked": true,
     "points": 20,
     "schema_version": 3,
     "solution": false,
     "task": false
    }
   },
   "outputs": [],
   "source": [
    "assert compute_area([1,2],[3,4]) == 4\n",
    "assert compute_area([3,4],[1,2]) == 4\n",
    "assert compute_area([2,2],[6,-2]) == 16\n",
    "assert compute_area([6,-2],[2,2]) == 16"
   ]
  },
  {
   "cell_type": "markdown",
   "id": "fec99aae",
   "metadata": {},
   "source": [
    "## Problem 5: Array Normalization\n",
    "Difficulty: 7/10<br>\n",
    "Point: 30\n",
    "\n",
    "In this problem you need to make a function that normalize an array to a scale of 0-1. Process of normalization is usually used when your data value is too high or low, this is useful for data analysis and machine learning. The formula for normalization can be written as\n",
    "\n",
    "$$x_{Norm} = \\sum_{n=0}^{N} \\frac{x_n - x_{min}}{x_{max}-x_{min}} $$\n",
    "\n",
    "Hint:\n",
    "- Use numpy for this problem, it is already imported on the top\n",
    "- Becareful with 0"
   ]
  },
  {
   "cell_type": "code",
   "execution_count": null,
   "id": "3d23f79b",
   "metadata": {
    "deletable": false,
    "nbgrader": {
     "cell_type": "code",
     "checksum": "617b6928f6a2b53f44c8f5812735955d",
     "grade": false,
     "grade_id": "cell-8fd6cbadf84b22df",
     "locked": false,
     "schema_version": 3,
     "solution": true,
     "task": false
    }
   },
   "outputs": [],
   "source": [
    "def normalize(x):\n",
    "    \n",
    "    # YOUR CODE HERE\n",
    "    \n",
    "    return x_norm"
   ]
  },
  {
   "cell_type": "code",
   "execution_count": null,
   "id": "e27c02ed",
   "metadata": {
    "deletable": false,
    "editable": false,
    "nbgrader": {
     "cell_type": "code",
     "checksum": "ed7f0c55e2a281bd970920942d43451c",
     "grade": true,
     "grade_id": "cell-218523a772943f6f",
     "locked": true,
     "points": 30,
     "schema_version": 3,
     "solution": false,
     "task": false
    }
   },
   "outputs": [],
   "source": [
    "np.testing.assert_allclose(normalize([]), [])\n",
    "np.testing.assert_allclose(normalize([0]), [0])\n",
    "np.testing.assert_allclose(normalize([0, 0]), [0, 0])\n",
    "np.testing.assert_allclose(normalize([1]), [1])\n",
    "np.testing.assert_allclose(normalize([1, 1]), [1, 1])\n",
    "np.testing.assert_allclose(\n",
    "        normalize(np.arange(10)),\n",
    "        [\n",
    "            0,\n",
    "            0.11111111,\n",
    "            0.22222222,\n",
    "            0.33333333,\n",
    "            0.44444444,\n",
    "            0.55555556,\n",
    "            0.66666667,\n",
    "            0.77777778,\n",
    "            0.88888889,\n",
    "            1,\n",
    "        ],\n",
    "    )\n",
    "\n",
    "np.testing.assert_allclose(\n",
    "    normalize(np.arange(10, 0, -1)),\n",
    "    [\n",
    "        1.0,\n",
    "        0.88888889,\n",
    "        0.77777778,\n",
    "        0.66666667,\n",
    "        0.55555556,\n",
    "        0.44444444,\n",
    "        0.33333333,\n",
    "        0.22222222,\n",
    "        0.11111111,\n",
    "        0.0,\n",
    "    ],\n",
    ")\n",
    "\n",
    "np.testing.assert_allclose(\n",
    "    normalize(np.arange(0, -10, -1)),\n",
    "    [\n",
    "        1.0,\n",
    "        0.88888889,\n",
    "        0.77777778,\n",
    "        0.66666667,\n",
    "        0.55555556,\n",
    "        0.44444444,\n",
    "        0.33333333,\n",
    "        0.22222222,\n",
    "        0.11111111,\n",
    "        0.0,\n",
    "    ],\n",
    ")"
   ]
  },
  {
   "cell_type": "markdown",
   "id": "4051ba71",
   "metadata": {
    "deletable": false,
    "editable": false,
    "nbgrader": {
     "cell_type": "markdown",
     "checksum": "85d5adff1fd7b8b51bb5cee359774be7",
     "grade": false,
     "grade_id": "cell-8e102d475f132e7a",
     "locked": true,
     "schema_version": 3,
     "solution": false,
     "task": false
    }
   },
   "source": [
    "# Thats It!\n",
    "Now run everything and make sure everything is working well, **MAKE SURE YOU SAVE THE FILE** before downloading the file, to download you need to go to \"File\" -> \"Download as\" -> \".ipynb\"/\"notebook\", it maybe different in your IDE but in the end you need to save it in notebook too \n",
    "\n",
    "**Save it using this naming format: YOUR_FULL_NAME.ipynb**"
   ]
  }
 ],
 "metadata": {
  "kernelspec": {
   "display_name": "Python 3 (ipykernel)",
   "language": "python",
   "name": "python3"
  },
  "language_info": {
   "codemirror_mode": {
    "name": "ipython",
    "version": 3
   },
   "file_extension": ".py",
   "mimetype": "text/x-python",
   "name": "python",
   "nbconvert_exporter": "python",
   "pygments_lexer": "ipython3",
   "version": "3.9.12"
  }
 },
 "nbformat": 4,
 "nbformat_minor": 5
}
